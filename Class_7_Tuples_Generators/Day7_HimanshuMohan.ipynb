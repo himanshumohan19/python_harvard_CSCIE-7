{
 "cells": [
  {
   "cell_type": "code",
   "execution_count": 1,
   "metadata": {},
   "outputs": [
    {
     "name": "stdout",
     "output_type": "stream",
     "text": [
      "[0, 1, 2, 3, 4, 5, 6, 7, 8, 9]\n",
      "[1, 3, 5, 7, 9]\n",
      "25\n",
      "[0, 1, 4, 9, 16, 25, 36, 49, 64, 81]\n"
     ]
    }
   ],
   "source": [
    "# list_comprehension.py\n",
    "#\n",
    "#  functions that use List Comprehensions to create lists\n",
    "# Usage:\n",
    "#      % python list_comprehension.py passing one input\n",
    "#\n",
    "# Himanshu Mohan, Oct 21, 2019\n",
    "from typing import List\n",
    "\n",
    "def sequence(n: int) -> List[int]:\n",
    "    \"Non-negative integers less than n\"\n",
    "    return([i for i in range(0,n) if not i<0])\n",
    "\n",
    "print(sequence(10))\n",
    "    \n",
    "def odd(n: int) -> List[int]:\n",
    "    \"Non-negative odd integers less than n\"\n",
    "    return([i for i in range (0,n) if not(i%2==0)])\n",
    "\n",
    "print(odd(10))\n",
    "\n",
    "def odd_sum(n: int) -> int:\n",
    "    \"The sum of the non-negative odd integers less than n\"\n",
    "    total=[]\n",
    "    total=([i for i in range (0,n) if not(i%2==0)])\n",
    "    return(sum(total))\n",
    "\n",
    "print(odd_sum(10))\n",
    "\n",
    "def squares(n: int) -> List[int]:\n",
    "    \"The squares of the non-negative integers less than n\"\n",
    "    return([i*i for i in range (0,n) if not(i<0)])\n",
    "    \n",
    "\n",
    "print(squares(10))"
   ]
  },
  {
   "cell_type": "code",
   "execution_count": 10,
   "metadata": {},
   "outputs": [
    {
     "name": "stdout",
     "output_type": "stream",
     "text": [
      "(1, 2, 3)\n"
     ]
    }
   ],
   "source": [
    "# find_item.py\n",
    "#\n",
    "#  a function that takes an item and list of tuples and returns\n",
    "# the first tuple that holds the item\n",
    "# Usage:\n",
    "#      % python find_item.py passing two inputs-Item and a Tuple\n",
    "#\n",
    "# Himanshu Mohan, Oct 21, 2019\n",
    "\n",
    "from typing import Any, List, Tuple\n",
    "\n",
    "def find_item(item: Any, lst: List[Tuple]) -> Tuple:\n",
    "    \"Which tuple holds the item?\"\n",
    "   \n",
    "    for index in range(len(lst)):\n",
    "        if any(item in n for n in lst):\n",
    "            return lst[index]\n",
    "        else:\n",
    "            return (())\n",
    "    \n",
    "    \n",
    "print(find_item(1,((1,2,3),(1,2),'one')))"
   ]
  },
  {
   "cell_type": "code",
   "execution_count": 5,
   "metadata": {},
   "outputs": [
    {
     "name": "stdout",
     "output_type": "stream",
     "text": [
      "2\n"
     ]
    }
   ],
   "source": [
    "# hamming.py\n",
    "#\n",
    "#  functions Hamming distance compares two strings of the same length\n",
    "# Usage:\n",
    "#      % python hamming.py passing two input string\n",
    "#\n",
    "# Himanshu Mohan, Oct 21, 2019\n",
    "\n",
    "def hamming_distance(str1: str, str2: str) -> int:\n",
    "    \"Return the number of differences\"\n",
    "    try:\n",
    "        if len(str1)!=len(str2):\n",
    "            raise ValueError\n",
    "    except ValueError:\n",
    "        print('Incorrect input strings lengths')\n",
    "        return 0\n",
    "        \n",
    "    return(sum(1 for i in range(len(str1)) if str1[i].upper()!=str2[i].upper()))\n",
    "    \n",
    "print (hamming_distance('hapiy', 'mappy'))"
   ]
  },
  {
   "cell_type": "code",
   "execution_count": 6,
   "metadata": {},
   "outputs": [
    {
     "name": "stdout",
     "output_type": "stream",
     "text": [
      "True\n"
     ]
    }
   ],
   "source": [
    "# duplicate.py\n",
    "#\n",
    "#  a function that decides if a string has duplicate letters.\n",
    "# Usage:\n",
    "#      % python duplicate.py passing one input string\n",
    "#\n",
    "# Himanshu Mohan, Oct 21, 2019\n",
    "def has_duplicate_letter(text: str) -> bool:\n",
    "    \"Does the string have duplicate letters?\"\n",
    "    for index in range (len(text)-1):\n",
    "        if index==(len(text)-1):\n",
    "            return False\n",
    "        else: \n",
    "                if (text[index])== text[index+1]:\n",
    "                    return True\n",
    "              \n",
    "    return False\n",
    "        \n",
    "print (has_duplicate_letter('abcdd'))"
   ]
  },
  {
   "cell_type": "code",
   "execution_count": 7,
   "metadata": {},
   "outputs": [
    {
     "name": "stdout",
     "output_type": "stream",
     "text": [
      "lnt\n"
     ]
    }
   ],
   "source": [
    "# encode.py\n",
    "#\n",
    "#  a function that uses a super secret code to obscure his messages.\n",
    "# Usage:\n",
    "#      % python encode .py passing one input string\n",
    "#\n",
    "# Himanshu Mohan, Oct 21, 2019\n",
    "import re\n",
    "\n",
    "def encode(text: str) -> str:\n",
    "    \"Encode plaintext into cipher text\"\n",
    "    str1='abcdefghijklmnopqrstuvwxyz'\n",
    "    str2='zyxwvutsrqponmlkjihgfedcba'\n",
    "    \n",
    "    text_new=re.sub(\"[^a-zA-Z]+\", \"\", text) # Remove all non letters \n",
    "    text_new_l=text_new.lower()   # Make string lowers  case\n",
    "    encod_str=''\n",
    "    comb_lst=(list(zip(str1,str2))) # Zip two strings\n",
    "    \n",
    "    for ch in text_new_l:      # generate secret code \n",
    "        for ch1,ch2 in comb_lst:\n",
    "            if ch==ch1:\n",
    "                encod_str=encod_str+ch2\n",
    "                    \n",
    "    return(encod_str)    \n",
    "\n",
    "print(encode('OMG'))"
   ]
  },
  {
   "cell_type": "code",
   "execution_count": null,
   "metadata": {},
   "outputs": [],
   "source": [
    "# missouri.py\n",
    "#\n",
    "#  Find the 3 most popular zip codes in /course/data/missouri-beer-wine.csv\n",
    "# Usage:\n",
    "#      % python missouri.py \n",
    "#\n",
    "# Himanshu Mohan, Oct 21, 2019\n",
    "#\n",
    "from collections import Counter \n",
    "import csv\n",
    "\n",
    "def find_zip():\n",
    "    output = []\n",
    "\n",
    "    with open('/course/data/missouri-beer-wine.csv', \"r\", newline='') as f:\n",
    "        reader = csv.reader(f)\n",
    "        output = [row[1][0:5] for row in reader] # Getting first 5 digits of Zip\n",
    "\n",
    "\n",
    "    count_map = {} \n",
    "    for i in output: \n",
    "          count_map[i] = count_map.get(i, 0) +1  # Build dictionary of Zip along with count\n",
    "\n",
    "    k = Counter(count_map) # Count all similar Zips\n",
    "  \n",
    "    # Finding 3 highest values \n",
    "    high = k.most_common(3) \n",
    "\n",
    "    for i in high: \n",
    "         print(i[0]) \n",
    "            \n",
    "    f.close()\n",
    "    \n",
    "find_zip()"
   ]
  }
 ],
 "metadata": {
  "kernelspec": {
   "display_name": "Python 3",
   "language": "python",
   "name": "python3"
  },
  "language_info": {
   "codemirror_mode": {
    "name": "ipython",
    "version": 3
   },
   "file_extension": ".py",
   "mimetype": "text/x-python",
   "name": "python",
   "nbconvert_exporter": "python",
   "pygments_lexer": "ipython3",
   "version": "3.7.0"
  }
 },
 "nbformat": 4,
 "nbformat_minor": 2
}
